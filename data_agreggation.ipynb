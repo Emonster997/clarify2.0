{
 "cells": [
  {
   "cell_type": "code",
   "execution_count": 1,
   "metadata": {},
   "outputs": [],
   "source": [
    "import pandas as pd\n",
    "from datetime import datetime\n",
    "\n",
    "import numpy as np\n",
    "\n",
    "import tensorflow as tf\n",
    "from tensorflow import keras\n",
    "from keras import layers\n",
    "from matplotlib import pyplot as plt\n",
    "\n",
    "from sklearn.model_selection import train_test_split\n",
    "from sklearn.metrics import mean_absolute_error\n",
    "from sklearn.tree import DecisionTreeRegressor"
   ]
  },
  {
   "cell_type": "code",
   "execution_count": 2,
   "metadata": {},
   "outputs": [],
   "source": [
    "# function to clean the data\n",
    "# drop rows that contain na values\n",
    "# change the date column do datetime objects\n",
    "def clean_data(data):\n",
    "    data = data.dropna()\n",
    "    data.loc[:,('date')] = pd.to_datetime(data.loc[:,('date')])\n",
    "    return data\n",
    "\n",
    "\n",
    "#function to add target column to data\n",
    "#data has to be only on a particular room\n",
    "def grouped_targets(df):\n",
    "    df_x = df[:len(df)-6].reset_index()\n",
    "\n",
    "    df_co2       = df[6:len(df)].reset_index()[\"co2\"]\n",
    "    df_t_ambient = df[6:len(df)].reset_index()[\"t_ambient\"]\n",
    "    df_tvoc      = df[6:len(df)].reset_index()[\"tvoc\"]\n",
    "\n",
    "    df_x[\"co2_30min\"]       = df_co2\n",
    "    df_x[\"t_ambient_30min\"] = df_t_ambient\n",
    "    df_x[\"tvoc_30min\"]      = df_tvoc\n",
    "\n",
    "    df_x = df_x.drop([\"date\", \"location_uuid\", \"index\"], axis=1)\n",
    "    return df_x"
   ]
  },
  {
   "cell_type": "code",
   "execution_count": 3,
   "metadata": {},
   "outputs": [
    {
     "name": "stderr",
     "output_type": "stream",
     "text": [
      "c:\\Users\\Dave Laptop\\anaconda3\\lib\\site-packages\\pandas\\core\\indexing.py:1773: SettingWithCopyWarning: \n",
      "A value is trying to be set on a copy of a slice from a DataFrame.\n",
      "Try using .loc[row_indexer,col_indexer] = value instead\n",
      "\n",
      "See the caveats in the documentation: https://pandas.pydata.org/pandas-docs/stable/user_guide/indexing.html#returning-a-view-versus-a-copy\n",
      "  self._setitem_single_column(ilocs[0], value, pi)\n"
     ]
    }
   ],
   "source": [
    "# read and clean client 3 data\n",
    "client_3 = pd.read_csv('Export/client_3.csv')\n",
    "client_3 = clean_data(client_3)"
   ]
  },
  {
   "cell_type": "code",
   "execution_count": 7,
   "metadata": {},
   "outputs": [],
   "source": [
    "# read and clean client 3 data that contains calculated features but no weather features\n",
    "calc_client_3_no_weather = pd.read_csv('Export/calc_measures_client_3_no_weather.csv')\n",
    "calc_client_3_no_weather = calc_client_3_no_weather.drop(['Unnamed: 0', 'Date', 'Location'], axis=1)\n",
    "calc_client_3_no_weather = clean_data(calc_client_3_no_weather)"
   ]
  },
  {
   "cell_type": "code",
   "execution_count": 8,
   "metadata": {},
   "outputs": [],
   "source": [
    "# read and clean client 3 data with calculated and weather features\n",
    "calc_client_3 = pd.read_csv('Export/calc_measures_client_3.csv')\n",
    "calc_client_3 = calc_client_3.drop(['Unnamed: 0', 'Date', 'Location', 'YYYYMMDD_x', 'YYYYMMDD_y', 'HH', 'MM', '# STN', 'DATE'], axis=1)\n",
    "calc_client_3 = clean_data(calc_client_3)"
   ]
  },
  {
   "cell_type": "code",
   "execution_count": 4,
   "metadata": {},
   "outputs": [],
   "source": [
    "#split data on rooms\n",
    "client_3_rooms = [y for x, y in client_3.groupby('location_uuid', as_index=False)]\n",
    "\n",
    "#compute targets per room and append to dataframe\n",
    "df_3 = pd.DataFrame()\n",
    "for room in client_3_rooms:\n",
    "    df_3 = df_3.append(grouped_targets(room))"
   ]
  },
  {
   "cell_type": "code",
   "execution_count": 9,
   "metadata": {},
   "outputs": [],
   "source": [
    "#split data on rooms\n",
    "client_3_rooms = [y for x, y in calc_client_3_no_weather.groupby('location_uuid', as_index=False)]\n",
    "\n",
    "#compute targets per room and append to dataframe\n",
    "df_3_calc_no_weather = pd.DataFrame()\n",
    "for room in client_3_rooms:\n",
    "    df_3_calc_no_weather = df_3_calc_no_weather.append(grouped_targets(room))"
   ]
  },
  {
   "cell_type": "code",
   "execution_count": 10,
   "metadata": {},
   "outputs": [],
   "source": [
    "#split data on rooms\n",
    "client_3_rooms = [y for x, y in calc_client_3.groupby('location_uuid', as_index=False)]\n",
    "\n",
    "#compute targets per room and append to dataframe\n",
    "df_3_calc = pd.DataFrame()\n",
    "for room in client_3_rooms:\n",
    "    df_3_calc = df_3_calc.append(grouped_targets(room))"
   ]
  },
  {
   "cell_type": "code",
   "execution_count": 5,
   "metadata": {},
   "outputs": [],
   "source": [
    "#some tvoc values are incorrect due to malfunction\n",
    "#remove rows that contain extreme outliers\n",
    "def drop_tvoc(dataframe):\n",
    "    q75,q25 = np.percentile(dataframe.loc[:,'tvoc'],[75,25])\n",
    "    intr_qr = q75-q25\n",
    "\n",
    "    max_tvoc = q75+(1.5*intr_qr)\n",
    "    min_tvoc = q25-(1.5*intr_qr)\n",
    "\n",
    "    return(dataframe.loc[(dataframe['tvoc'] < max_tvoc) & (dataframe['tvoc'] > min_tvoc)])"
   ]
  },
  {
   "cell_type": "code",
   "execution_count": 11,
   "metadata": {},
   "outputs": [],
   "source": [
    "#remove tvoc outliers\n",
    "df_3                 = drop_tvoc(df_3)\n",
    "df_3_calc            = drop_tvoc(df_3_calc)\n",
    "df_3_calc_no_weather = drop_tvoc(df_3_calc_no_weather)"
   ]
  },
  {
   "cell_type": "code",
   "execution_count": 12,
   "metadata": {},
   "outputs": [],
   "source": [
    "dataframe = df_3\n",
    "\n",
    "#to make RNN converge we normalize input values using a normalization layer\n",
    "norm_layer = layers.Normalization()\n",
    "norm_layer.adapt(dataframe.drop(['co2_30min', 't_ambient_30min', 'tvoc_30min'], axis=1))\n",
    "\n",
    "#reshape data to fit RNN input as a sequence of data\n",
    "\n",
    "#12 steps backwards * 5 minutes intervals = 1 hour of past data to predict 30 min ahead\n",
    "steps_backwards = 12\n",
    "#target values are already on the same row\n",
    "steps_forward   = 0\n",
    "\n",
    "#get input values\n",
    "data_X = norm_layer(dataframe.drop(['co2_30min', 't_ambient_30min', 'tvoc_30min'], axis=1))\n",
    "data_X = np.array(data_X)\n",
    "#get target values\n",
    "data_Y = dataframe[['co2_30min', 't_ambient_30min', 'tvoc_30min']][steps_backwards:len(dataframe)-steps_forward]\n",
    "\n",
    "#reshape input features into shape(rows, steps backwards, amount of features)\n",
    "series_reshaped_X =  np.array([data_X[i:i + steps_backwards].copy() for i in range(len(dataframe) - (steps_backwards+steps_forward))])"
   ]
  },
  {
   "cell_type": "code",
   "execution_count": null,
   "metadata": {},
   "outputs": [],
   "source": [
    "#create train test split for RNN\n",
    "X_train_rnn, X_test_rnn, y_train_rnn, y_test_rnn = train_test_split(series_reshaped_X, data_Y, \n",
    "    test_size=0.33, random_state=42)"
   ]
  },
  {
   "cell_type": "code",
   "execution_count": null,
   "metadata": {},
   "outputs": [],
   "source": [
    "#rnn model\n",
    "#standard keras sequential workflow\n",
    "rnn_model = keras.Sequential()\n",
    "rnn_model.add(layers.LSTM(32, input_shape=(steps_backwards, 23)))\n",
    "rnn_model.add(layers.Dense(3))\n",
    "\n",
    "rnn_model.summary()"
   ]
  },
  {
   "cell_type": "code",
   "execution_count": null,
   "metadata": {},
   "outputs": [],
   "source": [
    "#compile RNN model\n",
    "#standard keras sequential workflow\n",
    "rnn_model.compile(\n",
    "    # Optimizer\n",
    "    optimizer=keras.optimizers.Adam(learning_rate=0.001),  \n",
    "    # Loss function to minimize\n",
    "    loss=keras.losses.MeanAbsoluteError(),\n",
    "    # List of metrics to monitor\n",
    "    metrics=[]\n",
    ")"
   ]
  },
  {
   "cell_type": "code",
   "execution_count": null,
   "metadata": {},
   "outputs": [],
   "source": [
    "#train RNN model\n",
    "#standard keras sequential workflow\n",
    "history_rnn = rnn_model.fit(\n",
    "    X_train_rnn,\n",
    "    y_train_rnn,\n",
    "    batch_size=64,\n",
    "    epochs=128,\n",
    "    # We pass some validation for\n",
    "    # monitoring validation loss and metrics\n",
    "    # at the end of each epoch\n",
    "    validation_data=(X_test_rnn, y_test_rnn),\n",
    ")"
   ]
  },
  {
   "cell_type": "code",
   "execution_count": null,
   "metadata": {},
   "outputs": [],
   "source": [
    "#plot training loss and validation loss against time to check overfitting\n",
    "pd.DataFrame(history_rnn.history).plot(figsize=(8,5))\n",
    "plt.show()"
   ]
  },
  {
   "cell_type": "code",
   "execution_count": null,
   "metadata": {},
   "outputs": [],
   "source": [
    "#predict test data using RNN in order to plot\n",
    "y_pred_rnn = pd.DataFrame(rnn_model.predict(X_test_rnn))"
   ]
  },
  {
   "cell_type": "code",
   "execution_count": null,
   "metadata": {},
   "outputs": [],
   "source": [
    "#0 = co2, 1 = t_ambient, 2 = tvoc\n",
    "#plot predicted values against target values\n",
    "plt.figure()\n",
    "plt.scatter(y_pred_rnn[2], y_test_rnn['tvoc_30min'], color=\"cornflowerblue\",  alpha=0.4)\n",
    "plt.ylim(0, 2500)\n",
    "plt.xlim(0, 2500)\n",
    "plt.xlabel(\"Prediction\")\n",
    "plt.ylabel(\"Target\")\n",
    "plt.title(\"Recurrent Neural Network tvoc (no weather)\")\n",
    "plt.show()"
   ]
  },
  {
   "cell_type": "code",
   "execution_count": 13,
   "metadata": {},
   "outputs": [],
   "source": [
    "#create train test split on non-reshaped data\n",
    "X_train, X_test, y_train, y_test = train_test_split(dataframe.drop(['co2_30min', 't_ambient_30min', 'tvoc_30min'], axis=1), \n",
    "    dataframe[['co2_30min', 't_ambient_30min', 'tvoc_30min']], \n",
    "    test_size=0.33, random_state=42)"
   ]
  },
  {
   "cell_type": "code",
   "execution_count": null,
   "metadata": {},
   "outputs": [],
   "source": [
    "#tree regression model using sklearn library\n",
    "tree_regression = DecisionTreeRegressor(random_state=42)\n",
    "tree_regression.fit(X_train, y_train)\n",
    "\n",
    "#predict test data using regression tree in order to plot\n",
    "y_pred_tree_regression = pd.DataFrame(tree_regression.predict(X_test))\n",
    "\n",
    "#compute mean absolute error for comparison\n",
    "mean_absolute_error(y_test, y_pred_tree_regression)"
   ]
  },
  {
   "cell_type": "code",
   "execution_count": null,
   "metadata": {},
   "outputs": [],
   "source": [
    "#0 = co2, 1 = t_ambient, 2 = tvoc\n",
    "#plot predicted values against target values\n",
    "plt.figure()\n",
    "plt.scatter(y_pred_tree_regression[2], y_test['tvoc_30min'], color=\"cornflowerblue\",  alpha=0.4)\n",
    "plt.ylim(0, 2500)\n",
    "plt.xlim(0, 2500)\n",
    "plt.xlabel(\"Prediction\")\n",
    "plt.ylabel(\"Target\")\n",
    "plt.title(\"Regression Tree tvoc (no weather)\")\n",
    "plt.show()"
   ]
  },
  {
   "cell_type": "code",
   "execution_count": 14,
   "metadata": {},
   "outputs": [
    {
     "name": "stdout",
     "output_type": "stream",
     "text": [
      "Model: \"sequential\"\n",
      "_________________________________________________________________\n",
      " Layer (type)                Output Shape              Param #   \n",
      "=================================================================\n",
      " batch_normalization (BatchN  (None, 11)               44        \n",
      " ormalization)                                                   \n",
      "                                                                 \n",
      " dense (Dense)               (None, 64)                768       \n",
      "                                                                 \n",
      " dense_1 (Dense)             (None, 64)                4160      \n",
      "                                                                 \n",
      " dense_2 (Dense)             (None, 3)                 195       \n",
      "                                                                 \n",
      "=================================================================\n",
      "Total params: 5,167\n",
      "Trainable params: 5,145\n",
      "Non-trainable params: 22\n",
      "_________________________________________________________________\n"
     ]
    }
   ],
   "source": [
    "#construct neural network model in similar fashion to RNN\n",
    "nn_model_client_3 = keras.Sequential()\n",
    "nn_model_client_3.add(keras.Input(shape=(X_train.shape[1],)))\n",
    "nn_model_client_3.add(layers.BatchNormalization(axis=1))\n",
    "nn_model_client_3.add(layers.Dense(64, activation=\"relu\"))\n",
    "nn_model_client_3.add(layers.Dense(64, activation=\"relu\"))\n",
    "nn_model_client_3.add(layers.Dense(3))\n",
    "nn_model_client_3.summary()"
   ]
  },
  {
   "cell_type": "code",
   "execution_count": 15,
   "metadata": {},
   "outputs": [],
   "source": [
    "#compile ANN model\n",
    "nn_model_client_3.compile(\n",
    "    # Optimizer\n",
    "    optimizer=keras.optimizers.Adam(learning_rate=0.001),  \n",
    "    # Loss function to minimize\n",
    "    loss=keras.losses.MeanAbsoluteError(),\n",
    "    # List of metrics to monitor\n",
    "    metrics=[],\n",
    ")"
   ]
  },
  {
   "cell_type": "code",
   "execution_count": 16,
   "metadata": {},
   "outputs": [
    {
     "name": "stdout",
     "output_type": "stream",
     "text": [
      "Epoch 1/32\n",
      "1238/1238 [==============================] - 4s 3ms/step - loss: 145.6815 - val_loss: 48.3191\n",
      "Epoch 2/32\n",
      "1238/1238 [==============================] - 3s 2ms/step - loss: 63.8974 - val_loss: 46.4396\n",
      "Epoch 3/32\n",
      "1238/1238 [==============================] - 3s 2ms/step - loss: 62.7274 - val_loss: 44.2278\n",
      "Epoch 4/32\n",
      "1238/1238 [==============================] - 3s 2ms/step - loss: 61.7485 - val_loss: 45.9326\n",
      "Epoch 5/32\n",
      "1238/1238 [==============================] - 3s 2ms/step - loss: 61.5816 - val_loss: 43.5075\n",
      "Epoch 6/32\n",
      "1238/1238 [==============================] - 3s 2ms/step - loss: 61.3357 - val_loss: 43.5257\n",
      "Epoch 7/32\n",
      "1238/1238 [==============================] - 3s 2ms/step - loss: 61.3681 - val_loss: 44.4128\n",
      "Epoch 8/32\n",
      "1238/1238 [==============================] - 3s 2ms/step - loss: 61.7893 - val_loss: 43.0823\n",
      "Epoch 9/32\n",
      "1238/1238 [==============================] - 3s 2ms/step - loss: 61.3060 - val_loss: 44.2597\n",
      "Epoch 10/32\n",
      "1238/1238 [==============================] - 3s 2ms/step - loss: 60.9434 - val_loss: 44.2607\n",
      "Epoch 11/32\n",
      "1238/1238 [==============================] - 3s 2ms/step - loss: 61.1774 - val_loss: 43.4651\n",
      "Epoch 12/32\n",
      "1238/1238 [==============================] - 3s 2ms/step - loss: 61.2853 - val_loss: 43.9766\n",
      "Epoch 13/32\n",
      "1238/1238 [==============================] - 3s 3ms/step - loss: 60.6265 - val_loss: 42.8905\n",
      "Epoch 14/32\n",
      "1238/1238 [==============================] - 3s 3ms/step - loss: 60.8476 - val_loss: 43.8756\n",
      "Epoch 15/32\n",
      "1238/1238 [==============================] - 3s 2ms/step - loss: 61.0856 - val_loss: 43.8564\n",
      "Epoch 16/32\n",
      "1238/1238 [==============================] - 3s 3ms/step - loss: 61.0092 - val_loss: 46.9506\n",
      "Epoch 17/32\n",
      "1238/1238 [==============================] - 3s 2ms/step - loss: 61.0373 - val_loss: 43.0785\n",
      "Epoch 18/32\n",
      "1238/1238 [==============================] - 3s 3ms/step - loss: 60.5672 - val_loss: 43.0853\n",
      "Epoch 19/32\n",
      "1238/1238 [==============================] - 3s 3ms/step - loss: 61.1681 - val_loss: 43.0137\n",
      "Epoch 20/32\n",
      "1238/1238 [==============================] - 3s 3ms/step - loss: 61.1418 - val_loss: 43.3790\n",
      "Epoch 21/32\n",
      "1238/1238 [==============================] - 3s 3ms/step - loss: 61.1827 - val_loss: 44.4451\n",
      "Epoch 22/32\n",
      "1238/1238 [==============================] - 3s 2ms/step - loss: 60.4964 - val_loss: 44.7422\n",
      "Epoch 23/32\n",
      "1238/1238 [==============================] - 3s 2ms/step - loss: 60.6834 - val_loss: 43.3548\n",
      "Epoch 24/32\n",
      "1238/1238 [==============================] - 3s 2ms/step - loss: 61.0272 - val_loss: 43.2098\n",
      "Epoch 25/32\n",
      "1238/1238 [==============================] - 3s 2ms/step - loss: 60.7506 - val_loss: 43.8193\n",
      "Epoch 26/32\n",
      "1238/1238 [==============================] - 3s 2ms/step - loss: 61.0102 - val_loss: 43.6810\n",
      "Epoch 27/32\n",
      "1238/1238 [==============================] - 3s 2ms/step - loss: 60.2704 - val_loss: 42.7010\n",
      "Epoch 28/32\n",
      "1238/1238 [==============================] - 3s 2ms/step - loss: 61.5451 - val_loss: 43.5898\n",
      "Epoch 29/32\n",
      "1238/1238 [==============================] - 3s 3ms/step - loss: 62.1445 - val_loss: 43.1710\n",
      "Epoch 30/32\n",
      "1238/1238 [==============================] - 3s 3ms/step - loss: 61.4057 - val_loss: 46.3305\n",
      "Epoch 31/32\n",
      "1238/1238 [==============================] - 3s 3ms/step - loss: 60.6527 - val_loss: 43.8942\n",
      "Epoch 32/32\n",
      "1238/1238 [==============================] - 3s 2ms/step - loss: 60.7040 - val_loss: 43.0171\n"
     ]
    }
   ],
   "source": [
    "#train ANN model\n",
    "history = nn_model_client_3.fit(\n",
    "    X_train,\n",
    "    y_train,\n",
    "    batch_size=64,\n",
    "    epochs=32,\n",
    "    # We pass some validation for\n",
    "    # monitoring validation loss and metrics\n",
    "    # at the end of each epoch\n",
    "    validation_data=(X_test, y_test),\n",
    ")"
   ]
  },
  {
   "cell_type": "code",
   "execution_count": 17,
   "metadata": {},
   "outputs": [
    {
     "data": {
      "image/png": "[encoded data removed]",
      "text/plain": [
       "<Figure size 576x360 with 1 Axes>"
      ]
     },
     "metadata": {
      "needs_background": "light"
     },
     "output_type": "display_data"
    }
   ],
   "source": [
    "#plot training loss and validation loss against time to check overfitting\n",
    "pd.DataFrame(history.history).plot(figsize=(8,5))\n",
    "plt.show()"
   ]
  },
  {
   "cell_type": "code",
   "execution_count": 18,
   "metadata": {},
   "outputs": [],
   "source": [
    "#predict test data using ANN in order to plot\n",
    "y_pred_nn = pd.DataFrame(nn_model_client_3.predict(X_test))"
   ]
  },
  {
   "cell_type": "code",
   "execution_count": 20,
   "metadata": {},
   "outputs": [
    {
     "data": {
      "image/png": "[encoded data removed]",
      "text/plain": [
       "<Figure size 432x288 with 1 Axes>"
      ]
     },
     "metadata": {
      "needs_background": "light"
     },
     "output_type": "display_data"
    }
   ],
   "source": [
    "#0 = co2, 1 = t_ambient, 2 = tvoc\n",
    "#plot predicted values against target values\n",
    "plt.figure()\n",
    "plt.scatter(y_pred_nn[2], y_test['tvoc_30min'], color=\"cornflowerblue\",  alpha=0.4)\n",
    "plt.ylim(0, 2500)\n",
    "plt.xlim(0, 2500)\n",
    "plt.xlabel(\"Prediction\")\n",
    "plt.ylabel(\"Target\")\n",
    "plt.title(\"Neural Network tvoc\")\n",
    "plt.show()"
   ]
  }
 ],
 "metadata": {
  "interpreter": {
   "hash": "991001e52b867a6403151fc8c27dafbd5a97ef51751fbee2b6c5474bbc2ce85a"
  },
  "kernelspec": {
   "display_name": "Python 3.9.7 ('base')",
   "language": "python",
   "name": "python3"
  },
  "language_info": {
   "codemirror_mode": {
    "name": "ipython",
    "version": 3
   },
   "file_extension": ".py",
   "mimetype": "text/x-python",
   "name": "python",
   "nbconvert_exporter": "python",
   "pygments_lexer": "ipython3",
   "version": "3.9.7"
  },
  "orig_nbformat": 4
 },
 "nbformat": 4,
 "nbformat_minor": 2
}
